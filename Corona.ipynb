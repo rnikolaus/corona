{
 "cells": [
  {
   "cell_type": "code",
   "execution_count": null,
   "metadata": {},
   "outputs": [],
   "source": [
    "import pandas as pd\n",
    "import io\n",
    "import requests\n",
    "from datetime import datetime\n",
    "from collections import defaultdict\n",
    "\n",
    "import matplotlib as mpl\n",
    "import matplotlib.pyplot as plt\n",
    "from matplotlib.ticker import PercentFormatter\n",
    "\n",
    "def loadfiles():\n",
    "    prefix = 'https://raw.githubusercontent.com/CSSEGISandData/COVID-19/master/csse_covid_19_data/csse_covid_19_time_series/'\n",
    "    filenames={'confirmed':'time_series_19-covid-Confirmed.csv',\n",
    "       'deaths':'time_series_19-covid-Deaths.csv',\n",
    "       'recovered':'time_series_19-covid-Recovered.csv'}\n",
    "    result={}\n",
    "    for file in filenames.keys():\n",
    "        url = prefix+filenames[file]\n",
    "        s=requests.get(url).content\n",
    "        result[file]=pd.read_csv(io.StringIO(s.decode('utf-8')))\n",
    "    return result\n",
    "files = loadfiles()\n",
    "        "
   ]
  },
  {
   "cell_type": "code",
   "execution_count": null,
   "metadata": {},
   "outputs": [],
   "source": [
    "def transform_vals(files,name):\n",
    "    values = defaultdict(list)\n",
    "    df = files[name]\n",
    "    dates = [datetime.strptime(d,'%m/%d/%y') for d in df.columns[4:]]\n",
    "    for row in df.iterrows():\n",
    "        vals = row[1][4:]\n",
    "        province_state = row[1][0]\n",
    "        country = row[1][1]\n",
    "        lat = row[1][2]\n",
    "        lon = row[1][3]\n",
    "        for i in range(len(vals)):\n",
    "            values['province_state'].append(province_state)\n",
    "            values['country'].append(country)\n",
    "            values['lat'].append(lat)\n",
    "            values['lon'].append(lon)\n",
    "            values['date'].append(dates[i])\n",
    "            values[name].append(vals[i])\n",
    "    return values\n",
    "\n",
    "def loadDF(files):\n",
    "    values = transform_vals(files,'confirmed')\n",
    "    values['deaths']=transform_vals(files,'deaths')['deaths']\n",
    "    values['recovered']=transform_vals(files,'recovered')['recovered']\n",
    "    return pd.DataFrame.from_dict(values)\n",
    "df = loadDF(files)\n",
    "df.to_csv('data.csv')\n",
    "del df['lat']\n",
    "del df['lon']\n",
    "\n",
    "displaydate = max(df['date'])\n",
    "#displaydate = '2020/03/13'\n",
    "print(displaydate)\n",
    "df[df['date']==displaydate].groupby(['country']).sum().sort_values(by=['confirmed'], ascending=False)"
   ]
  },
  {
   "cell_type": "code",
   "execution_count": null,
   "metadata": {},
   "outputs": [],
   "source": [
    "def plotvals(df):\n",
    "    df=df.groupby(['date']).sum()\n",
    "    ax = plt.gca()\n",
    "    df.plot(kind='line',y='confirmed',ax=ax)\n",
    "    df.plot(kind='line',y='recovered',color='green', ax=ax)\n",
    "    df.plot(kind='line',y='deaths', color='red', ax=ax)\n",
    "    plt.show()\n",
    "def plot_daily_change(df):\n",
    "    diff = df.groupby(['date']).sum()['confirmed'].diff()\n",
    "    \n",
    "    diff.plot(kind='area',y='confirmed',)\n",
    "    plt.show()\n",
    "    \n",
    "def plot_daily_change_percent(df):\n",
    "    ax = plt.gca()\n",
    "    ax.yaxis.set_major_formatter(PercentFormatter(1))\n",
    "    confirmed = df.groupby(['date']).sum()['confirmed']\n",
    "    completed = (df.groupby(['date']).sum()['deaths']).add(df.groupby(['date']).sum()['recovered'])\n",
    "    result = confirmed.diff()/(confirmed.sub(completed)).shift(1)\n",
    "    result.plot(kind='area',y='confirmed',color='black', ax=ax)\n",
    "    plt.ylim([0,0.3])\n",
    "    plt.show()\n",
    "    \n",
    "plotvals(df)\n",
    "plot_daily_change(df)\n",
    "plot_daily_change_percent(df)"
   ]
  },
  {
   "cell_type": "code",
   "execution_count": null,
   "metadata": {},
   "outputs": [],
   "source": [
    "plotvals(df[df['country']=='Austria'])\n",
    "plot_daily_change(df[df['country']=='Austria'])\n",
    "plot_daily_change_percent(df[df['country']=='Austria'])"
   ]
  },
  {
   "cell_type": "code",
   "execution_count": null,
   "metadata": {},
   "outputs": [],
   "source": [
    "plotvals(df[df['country']=='Germany'])\n",
    "plot_daily_change(df[df['country']=='Germany'])\n",
    "plot_daily_change_percent(df[df['country']=='Germany'])"
   ]
  },
  {
   "cell_type": "code",
   "execution_count": null,
   "metadata": {},
   "outputs": [],
   "source": [
    "plotvals(df[df['country']=='Italy'])\n",
    "plot_daily_change(df[df['country']=='Italy'])\n",
    "plot_daily_change_percent(df[df['country']=='Italy'])\n"
   ]
  },
  {
   "cell_type": "code",
   "execution_count": null,
   "metadata": {},
   "outputs": [],
   "source": [
    "plotvals(df[df['country']=='China'])\n",
    "plot_daily_change(df[df['country']=='China'])\n",
    "plot_daily_change_percent(df[df['country']=='China'])"
   ]
  },
  {
   "cell_type": "code",
   "execution_count": null,
   "metadata": {},
   "outputs": [],
   "source": [
    "plotvals(df[df['country']=='US'])\n",
    "plot_daily_change(df[df['country']=='US'])\n",
    "plot_daily_change_percent(df[df['country']=='US'])"
   ]
  }
 ],
 "metadata": {
  "kernelspec": {
   "display_name": "Python [default]",
   "language": "python",
   "name": "python3"
  },
  "language_info": {
   "codemirror_mode": {
    "name": "ipython",
    "version": 3
   },
   "file_extension": ".py",
   "mimetype": "text/x-python",
   "name": "python",
   "nbconvert_exporter": "python",
   "pygments_lexer": "ipython3",
   "version": "3.5.5"
  }
 },
 "nbformat": 4,
 "nbformat_minor": 2
}
